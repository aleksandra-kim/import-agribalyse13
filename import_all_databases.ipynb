{
 "cells": [
  {
   "cell_type": "code",
   "execution_count": 1,
   "metadata": {},
   "outputs": [],
   "source": [
    "import brightway2 as bw\n",
    "import numpy as np\n",
    "from copy import copy, deepcopy"
   ]
  },
  {
   "cell_type": "markdown",
   "metadata": {},
   "source": [
    "# Notes on Agribalyse 1.3"
   ]
  },
  {
   "cell_type": "markdown",
   "metadata": {},
   "source": [
    "- Not all production activities in the technosphere are equal (or close) to 1.  This does not affect values of LCIA scores,  but is inconsistent with usual practices. Rescaling of these activities would require rescaling of all the corresponding exchanges, as well as their uncertainty information. This part is not implemented here, see code under 3.vii). If production activities are not 1, and one of the databases is linked to agribalyse, it might cause problems in monte carlo simulations.\n",
    "\n",
    "- In the lognormally distributed exchanges, `loc` is equal to `amount`, which is incorrect.  At the moment `loc` is set to a logarithm of the `amount`,  which means that `amount` is equal to the median of the distribution.  It can also be chosen as a distribution mean, in which case `loc = logarithm(amount) - scale2/2`.  The choice has been made to be consistent with ecoinvent, see code under 3.v)\n",
    "\n",
    "- Many activities in Agribalyse 1.3 have repeating exchanges.  Ideally, input activities in each one of these exchanges should be modeled as separate activities with a name, specifying what exactly the activity models. This issue has not been addresed here, so it is unclear which one of the repeating exchanges is used in the computations of LCA scores."
   ]
  },
  {
   "cell_type": "markdown",
   "metadata": {},
   "source": [
    "# Setup and TODOs"
   ]
  },
  {
   "cell_type": "markdown",
   "metadata": {},
   "source": [
    "### TODO -> choose project"
   ]
  },
  {
   "cell_type": "code",
   "execution_count": 2,
   "metadata": {},
   "outputs": [],
   "source": [
    "project = 'Agribalyse - ecoinvent 3.7.1 import'\n",
    "bw.projects.set_current(project)"
   ]
  },
  {
   "cell_type": "code",
   "execution_count": 3,
   "metadata": {},
   "outputs": [
    {
     "data": {
      "text/plain": [
       "Databases dictionary with 0 objects"
      ]
     },
     "execution_count": 3,
     "metadata": {},
     "output_type": "execute_result"
    }
   ],
   "source": [
    "bw.databases"
   ]
  },
  {
   "cell_type": "markdown",
   "metadata": {},
   "source": [
    "### TODO -> give paths to ecoinvent and agribalyse files"
   ]
  },
  {
   "cell_type": "code",
   "execution_count": null,
   "metadata": {},
   "outputs": [],
   "source": [
    "# works for ecoinvent 3.6 and 3.7.1. maybe also for other versions, but only 36 and 371 have been tested\n",
    "ei_name = \"ecoinvent 3.7.1 cutoff\" \n",
    "ei_path = 'link/to/ecoinvent 3.7.1 cutoff/datasets'\n",
    "ag13_path = 'Agribalyse CSV FINAL_no links_Nov2016v3.CSV' # need to apply for this file"
   ]
  },
  {
   "cell_type": "markdown",
   "metadata": {},
   "source": [
    "# Import databases"
   ]
  },
  {
   "cell_type": "markdown",
   "metadata": {},
   "source": [
    "## 1. Biosphere3"
   ]
  },
  {
   "cell_type": "code",
   "execution_count": 5,
   "metadata": {},
   "outputs": [
    {
     "name": "stdout",
     "output_type": "stream",
     "text": [
      "Creating default biosphere\n",
      "\n"
     ]
    },
    {
     "name": "stderr",
     "output_type": "stream",
     "text": [
      "Writing activities to SQLite3 database:\n"
     ]
    },
    {
     "name": "stdout",
     "output_type": "stream",
     "text": [
      "Applying strategy: normalize_units\n",
      "Applying strategy: drop_unspecified_subcategories\n",
      "Applied 2 strategies in 0.01 seconds\n"
     ]
    },
    {
     "name": "stderr",
     "output_type": "stream",
     "text": [
      "0% [##############################] 100% | ETA: 00:00:00\n",
      "Total time elapsed: 00:00:00\n"
     ]
    },
    {
     "name": "stdout",
     "output_type": "stream",
     "text": [
      "Title: Writing activities to SQLite3 database:\n",
      "  Started: 03/04/2021 17:18:35\n",
      "  Finished: 03/04/2021 17:18:35\n",
      "  Total time elapsed: 00:00:00\n",
      "  CPU %: 101.30\n",
      "  Memory %: 0.92\n",
      "Created database: biosphere3\n",
      "Creating default LCIA methods\n",
      "\n",
      "Applying strategy: normalize_units\n",
      "Applying strategy: set_biosphere_type\n",
      "Applying strategy: drop_unspecified_subcategories\n",
      "Applying strategy: link_iterable_by_fields\n",
      "Applied 4 strategies in 1.13 seconds\n",
      "Wrote 850 LCIA methods with 219059 characterization factors\n",
      "Creating core data migrations\n",
      "\n",
      "CPU times: user 1min 9s, sys: 3.7 s, total: 1min 12s\n",
      "Wall time: 1min 13s\n"
     ]
    }
   ],
   "source": [
    "%%time\n",
    "bw.bw2setup()"
   ]
  },
  {
   "cell_type": "markdown",
   "metadata": {},
   "source": [
    "## 2. Ecoinvent"
   ]
  },
  {
   "cell_type": "code",
   "execution_count": 6,
   "metadata": {},
   "outputs": [
    {
     "name": "stdout",
     "output_type": "stream",
     "text": [
      "Extracting XML data from 19128 datasets\n",
      "Extracted 19128 datasets in 30.39 seconds\n",
      "Applying strategy: normalize_units\n",
      "Applying strategy: update_ecoinvent_locations\n",
      "Applying strategy: remove_zero_amount_coproducts\n",
      "Applying strategy: remove_zero_amount_inputs_with_no_activity\n",
      "Applying strategy: remove_unnamed_parameters\n",
      "Applying strategy: es2_assign_only_product_with_amount_as_reference_product\n",
      "Applying strategy: assign_single_product_as_activity\n",
      "Applying strategy: create_composite_code\n",
      "Applying strategy: drop_unspecified_subcategories\n",
      "Applying strategy: fix_ecoinvent_flows_pre35\n",
      "Applying strategy: drop_temporary_outdated_biosphere_flows\n",
      "Applying strategy: link_biosphere_by_flow_uuid\n",
      "Applying strategy: link_internal_technosphere_by_composite_code\n",
      "Applying strategy: delete_exchanges_missing_activity\n",
      "Applying strategy: delete_ghost_exchanges\n",
      "Applying strategy: remove_uncertainty_from_negative_loss_exchanges\n",
      "Applying strategy: fix_unreasonably_high_lognormal_uncertainties\n",
      "Applying strategy: set_lognormal_loc_value\n",
      "Applying strategy: convert_activity_parameters_to_list\n",
      "Applying strategy: add_cpc_classification_from_single_reference_product\n",
      "Applied 20 strategies in 7.94 seconds\n",
      "Applying strategy: link_iterable_by_fields\n",
      "19128 datasets\n",
      "621719 exchanges\n",
      "0 unlinked exchanges\n",
      "  \n"
     ]
    },
    {
     "name": "stderr",
     "output_type": "stream",
     "text": [
      "Writing activities to SQLite3 database:\n",
      "0% [##############################] 100% | ETA: 00:00:00\n",
      "Total time elapsed: 00:00:44\n"
     ]
    },
    {
     "name": "stdout",
     "output_type": "stream",
     "text": [
      "Title: Writing activities to SQLite3 database:\n",
      "  Started: 03/04/2021 17:20:27\n",
      "  Finished: 03/04/2021 17:21:12\n",
      "  Total time elapsed: 00:00:44\n",
      "  CPU %: 94.80\n",
      "  Memory %: 9.78\n",
      "Created database: ecoinvent 3.7.1 cutoff\n",
      "CPU times: user 2min 5s, sys: 11.6 s, total: 2min 17s\n",
      "Wall time: 2min 35s\n"
     ]
    },
    {
     "data": {
      "text/plain": [
       "Databases dictionary with 2 object(s):\n",
       "\tbiosphere3\n",
       "\tecoinvent 3.7.1 cutoff"
      ]
     },
     "execution_count": 6,
     "metadata": {},
     "output_type": "execute_result"
    }
   ],
   "source": [
    "%%time\n",
    "\n",
    "if ei_name in bw.databases:\n",
    "    print(ei_name + \" datasbase already present!!! No import is needed\")    \n",
    "else:\n",
    "    ei = bw.SingleOutputEcospold2Importer(ei_path, ei_name)\n",
    "    ei.apply_strategies()\n",
    "    ei.match_database(db_name='biosphere3',fields=('name', 'category', 'unit', 'location'))\n",
    "    ei.statistics()\n",
    "    if len(list(ei.unlinked))==0:\n",
    "        ei.write_database()\n",
    "    else:\n",
    "        print('Unlinked exchanges!')\n",
    "        \n",
    "bw.databases"
   ]
  },
  {
   "cell_type": "markdown",
   "metadata": {},
   "source": [
    "## 3. Agribalyse 1.3\n"
   ]
  },
  {
   "cell_type": "code",
   "execution_count": 7,
   "metadata": {},
   "outputs": [
    {
     "data": {
      "text/plain": [
       "'Agribalyse 1.3 - ecoinvent 3.7.1 cutoff'"
      ]
     },
     "execution_count": 7,
     "metadata": {},
     "output_type": "execute_result"
    }
   ],
   "source": [
    "# Give the name of the ecoinvent database to which Agribalyse should be linked\n",
    "# works smoothly for ecoinvent 3.6 cutoff, code might need modifications for other versions\n",
    "ag13_name = 'Agribalyse 1.3'\n",
    "ag13_ei_name = ag13_name + ' - ' + ei_name\n",
    "ag13_ei_name"
   ]
  },
  {
   "cell_type": "code",
   "execution_count": null,
   "metadata": {},
   "outputs": [],
   "source": [
    "# try:\n",
    "#     del bw.databases[ag13_ei_name]\n",
    "# except:\n",
    "#     pass"
   ]
  },
  {
   "cell_type": "markdown",
   "metadata": {},
   "source": [
    "### i) Following steps are similar to [Aribalyse 1.2 import](https://nbviewer.jupyter.org/urls/bitbucket.org/cmutel/brightway2/raw/default/notebooks/IO%20-%20Importing%20Agribalyse%201.3%20with%20Ecoinvent%203.2%20cutoff.ipynb)"
   ]
  },
  {
   "cell_type": "code",
   "execution_count": 8,
   "metadata": {},
   "outputs": [
    {
     "name": "stdout",
     "output_type": "stream",
     "text": [
      "Extracted 1189 unallocated datasets in 3.64 seconds\n",
      "Applying strategy: normalize_units\n",
      "Applying strategy: update_ecoinvent_locations\n",
      "Applying strategy: assign_only_product_as_production\n",
      "Applying strategy: drop_unspecified_subcategories\n",
      "Applying strategy: sp_allocate_products\n",
      "Applying strategy: fix_zero_allocation_products\n",
      "Applying strategy: split_simapro_name_geo\n",
      "Applying strategy: strip_biosphere_exc_locations\n",
      "Applying strategy: migrate_datasets\n",
      "Applying strategy: migrate_exchanges\n",
      "Applying strategy: set_code_by_activity_hash\n",
      "Applying strategy: link_technosphere_based_on_name_unit_location\n",
      "Applying strategy: change_electricity_unit_mj_to_kwh\n",
      "Applying strategy: set_lognormal_loc_value_uncertainty_safe\n",
      "Applying strategy: normalize_biosphere_categories\n",
      "Applying strategy: normalize_simapro_biosphere_categories\n",
      "Applying strategy: normalize_biosphere_names\n",
      "Applying strategy: normalize_simapro_biosphere_names\n",
      "Applying strategy: migrate_exchanges\n",
      "Applying strategy: fix_localized_water_flows\n",
      "Applying strategy: link_iterable_by_fields\n",
      "Applying strategy: convert_activity_parameters_to_list\n",
      "Applied 22 strategies in 3.28 seconds\n",
      "Applying strategy: migrate_datasets\n",
      "Applying strategy: migrate_exchanges\n"
     ]
    },
    {
     "name": "stderr",
     "output_type": "stream",
     "text": [
      "Writing activities to SQLite3 database:\n",
      "0% [##############################] 100% | ETA: 00:00:00\n",
      "Total time elapsed: 00:00:00\n"
     ]
    },
    {
     "name": "stdout",
     "output_type": "stream",
     "text": [
      "Title: Writing activities to SQLite3 database:\n",
      "  Started: 03/04/2021 17:22:35\n",
      "  Finished: 03/04/2021 17:22:35\n",
      "  Total time elapsed: 00:00:00\n",
      "  CPU %: 106.50\n",
      "  Memory %: 11.32\n",
      "Applying strategy: link_iterable_by_fields\n",
      "Applying strategy: link_iterable_by_fields\n",
      "Applying strategy: link_iterable_by_fields\n",
      "1700 datasets\n",
      "115259 exchanges\n",
      "887 unlinked exchanges\n",
      "  Type technosphere: 80 unique unlinked exchanges\n"
     ]
    },
    {
     "data": {
      "text/plain": [
       "(1700, 115259, 887)"
      ]
     },
     "execution_count": 8,
     "metadata": {},
     "output_type": "execute_result"
    }
   ],
   "source": [
    "ag13_ei = bw.SimaProCSVImporter(ag13_path, ag13_ei_name)\n",
    "ag13_ei.apply_strategies()\n",
    "# Apply all migrations with previous versions of ecoinvent\n",
    "ag13_ei.migrate('simapro-ecoinvent-3.3')\n",
    "# Update US locations\n",
    "from bw2io.strategies.locations import update_ecoinvent_locations\n",
    "ag13_ei = update_ecoinvent_locations(ag13_ei)\n",
    "# Biosphere flows\n",
    "ag13_ei_new_biosphere_name = ag13_ei_name + \" - new biosphere\"\n",
    "if ag13_ei_new_biosphere_name in bw.databases:\n",
    "    del bw.databases[ag13_ei_new_biosphere_name]\n",
    "bw.Database(ag13_ei_new_biosphere_name).register()\n",
    "ag13_ei.add_unlinked_flows_to_biosphere_database(ag13_ei_new_biosphere_name)\n",
    "# Add unlinked waste flows as new activities\n",
    "ag13_ei.add_unlinked_activities()\n",
    "ag13_ei.match_database(ei_name, fields=('reference product','location', 'unit', 'name'))\n",
    "ag13_ei.statistics()"
   ]
  },
  {
   "cell_type": "markdown",
   "metadata": {},
   "source": [
    "### ii) Define some of the migrations manually.\n",
    "### TODO -> check if migrations are correct\n",
    "\n",
    "- These migrations are specific to agribalyse 1.3 + ecoinvent 3.6 combination\n",
    "- Most of them are minor changes in names of activities and reference products\n",
    "- Some activities contain `multiplier` field if the unit conversion is needed or reference products are not identical"
   ]
  },
  {
   "cell_type": "code",
   "execution_count": 9,
   "metadata": {},
   "outputs": [
    {
     "name": "stdout",
     "output_type": "stream",
     "text": [
      "Applying strategy: migrate_datasets\n",
      "Applying strategy: migrate_exchanges\n",
      "Applying strategy: link_iterable_by_fields\n"
     ]
    }
   ],
   "source": [
    "agribalyse13_ecoinvent_names = {\n",
    "    'fields': ['name'],\n",
    "    'data': [\n",
    "        (\n",
    "            ['extrusion production, plastic film'],\n",
    "            {\n",
    "                'name': 'extrusion, plastic film'\n",
    "            }\n",
    "        ),\n",
    "        (\n",
    "            ['extrusion production, plastic pipes'],\n",
    "            {\n",
    "                'name': 'extrusion, plastic pipes'\n",
    "            }\n",
    "        ),\n",
    "        (\n",
    "            ['blow moulding production'],\n",
    "            {\n",
    "                'name': 'blow moulding'\n",
    "            }\n",
    "        ),\n",
    "        (\n",
    "            ['calendering production, rigid sheets'],\n",
    "            {\n",
    "                'name': 'calendering, rigid sheets'\n",
    "            }\n",
    "        ),\n",
    "        (\n",
    "            ['steam production in chemical industry'],\n",
    "            {\n",
    "                'name': 'steam production, in chemical industry',\n",
    "                'reference product': 'steam, in chemical industry',\n",
    "                'unit': 'kilogram',\n",
    "                'multiplier': 1/2.75, # change of units, see comment on this activity in ecoinvent\n",
    "                # TODO does this multiplier also change uncertainty distribution??\n",
    "            }\n",
    "        ),\n",
    "        (\n",
    "            ['water production, completely softened, from decarbonised water, at user'],\n",
    "            {\n",
    "                'name': 'water production, completely softened',\n",
    "                'reference product': 'water, completely softened'\n",
    "            }\n",
    "        ),\n",
    "        (\n",
    "            ['market for water, decarbonised, at user'],\n",
    "            {\n",
    "                'name': 'market for water, decarbonised',\n",
    "                'reference product': 'water, decarbonised'\n",
    "            }\n",
    "        ),\n",
    "        (\n",
    "            ['textile production, jute'],\n",
    "            {\n",
    "                'name': 'textile production, jute, weaving'\n",
    "            }\n",
    "        ),\n",
    "        (\n",
    "            ['market for transport, freight, sea, transoceanic ship'],\n",
    "            {\n",
    "                'name': 'market for transport, freight, sea, container ship with reefer, cooling',\n",
    "                'reference product': 'transport, freight, sea, container ship with reefer, cooling'\n",
    "            }\n",
    "        ),\n",
    "        (\n",
    "            ['transport, freight, sea, transoceanic ship'],\n",
    "            {\n",
    "                'name': 'transport, freight, sea, container ship with reefer, cooling',\n",
    "                'reference product': 'transport, freight, sea, container ship with reefer, cooling'\n",
    "            }\n",
    "        ),\n",
    "        (\n",
    "            ['oxidation of manganese dioxide'],\n",
    "            {\n",
    "                'reference product': 'potassium permanganate',\n",
    "                'multiplier': 90/1000 # change of reference product, see comment on this activity in ecoinvent\n",
    "            }\n",
    "        ),\n",
    "        (\n",
    "            ['irrigation'],\n",
    "            {\n",
    "                'name': 'market for irrigation',\n",
    "            }\n",
    "        ),\n",
    "    ]\n",
    "}\n",
    "\n",
    "bw.Migration(\"agribalyse13-ecoinvent-names\").write(\n",
    "    agribalyse13_ecoinvent_names,\n",
    "    description=\"Change names of some activities\"\n",
    ")\n",
    "ag13_ei.migrate('agribalyse13-ecoinvent-names')\n",
    "ag13_ei.match_database(ei_name, fields=('reference product','location', 'unit', 'name'))"
   ]
  },
  {
   "cell_type": "markdown",
   "metadata": {},
   "source": [
    "### iii) Define migrations for market groups"
   ]
  },
  {
   "cell_type": "code",
   "execution_count": 10,
   "metadata": {},
   "outputs": [
    {
     "name": "stdout",
     "output_type": "stream",
     "text": [
      "Applying strategy: migrate_datasets\n",
      "Applying strategy: migrate_exchanges\n",
      "Applying strategy: link_iterable_by_fields\n"
     ]
    }
   ],
   "source": [
    "agribalyse13_ecoinvent_market_groups = {\n",
    "    'fields': ['name', 'location'],\n",
    "    'data': [\n",
    "        (\n",
    "            ['market for electricity, low voltage', 'BR'],\n",
    "            {\n",
    "                'name': 'market group for electricity, low voltage'\n",
    "            }\n",
    "        ),\n",
    "        (\n",
    "            ['market for electricity, medium voltage', 'BR'],\n",
    "            {\n",
    "                'name': 'market group for electricity, medium voltage'\n",
    "            }\n",
    "        ),\n",
    "    ]\n",
    "}\n",
    "\n",
    "bw.Migration(\"agribalyse13-ecoinvent-market-groups\").write(\n",
    "    agribalyse13_ecoinvent_market_groups,\n",
    "    description=\"Change markets to market groups for Brazil\"\n",
    ")\n",
    "ag13_ei.migrate('agribalyse13-ecoinvent-market-groups')\n",
    "ag13_ei.match_database(ei_name, fields=('reference product','location', 'unit', 'name'))"
   ]
  },
  {
   "cell_type": "code",
   "execution_count": 11,
   "metadata": {},
   "outputs": [
    {
     "name": "stdout",
     "output_type": "stream",
     "text": [
      "1700 datasets\n",
      "115259 exchanges\n",
      "693 unlinked exchanges\n",
      "  Type technosphere: 66 unique unlinked exchanges\n"
     ]
    },
    {
     "data": {
      "text/plain": [
       "(1700, 115259, 693)"
      ]
     },
     "execution_count": 11,
     "metadata": {},
     "output_type": "execute_result"
    }
   ],
   "source": [
    "ag13_ei.statistics()"
   ]
  },
  {
   "cell_type": "markdown",
   "metadata": {},
   "source": [
    "### iv) Allocate by production volume"
   ]
  },
  {
   "cell_type": "code",
   "execution_count": 12,
   "metadata": {},
   "outputs": [],
   "source": [
    "from utils import *"
   ]
  },
  {
   "cell_type": "code",
   "execution_count": 13,
   "metadata": {},
   "outputs": [],
   "source": [
    "def create_location_mapping(ag13_ei, ei_name):\n",
    "    \"\"\"\n",
    "    Create mapping between unlinked exchanges and ecoinvent activities that constitute each unlinked exchange.\n",
    "    In this case we don't need to do it manually since all unlinked exchanges need to be allocated geographically.\n",
    "    Example: (market for lime, GLO) is split by production volume into \n",
    "             (market for lime, RoW) & (market for lime, RER).\n",
    "    Mapping is a list of dictionaries where each dictionary corresponds to an unlinked exchange.\n",
    "    The key is the name of the unlinked exchange and the values are ecoinvent activities codes.\n",
    "    \"\"\"\n",
    "    ei = bw.Database(ei_name)\n",
    "    unlinked_list = list(ag13_ei.unlinked)\n",
    "    len_unlinked  = len(unlinked_list)\n",
    "    mapping = [0]*len_unlinked\n",
    "    for u in range(len_unlinked):\n",
    "        new_el = {}\n",
    "        name = unlinked_list[u]['name']\n",
    "        loc  = unlinked_list[u]['location']\n",
    "        acts_codes = [act['code'] for act in ei if name == act['name']]\n",
    "        new_el[ (name, loc) ] = acts_codes\n",
    "        mapping[u] = new_el\n",
    "    return mapping"
   ]
  },
  {
   "cell_type": "code",
   "execution_count": 14,
   "metadata": {},
   "outputs": [
    {
     "name": "stdout",
     "output_type": "stream",
     "text": [
      "CPU times: user 1min 20s, sys: 19.8 s, total: 1min 40s\n",
      "Wall time: 1min 40s\n"
     ]
    }
   ],
   "source": [
    "%%time\n",
    "mapping = create_location_mapping(ag13_ei, ei_name)"
   ]
  },
  {
   "cell_type": "code",
   "execution_count": 15,
   "metadata": {},
   "outputs": [
    {
     "name": "stdout",
     "output_type": "stream",
     "text": [
      "Applying strategy: link_iterable_by_fields\n",
      "CPU times: user 6.68 s, sys: 373 ms, total: 7.06 s\n",
      "Wall time: 7.09 s\n"
     ]
    }
   ],
   "source": [
    "%%time\n",
    "agg = modify_exchanges(ag13_ei, mapping, ei_name)"
   ]
  },
  {
   "cell_type": "code",
   "execution_count": 16,
   "metadata": {},
   "outputs": [
    {
     "name": "stdout",
     "output_type": "stream",
     "text": [
      "1700 datasets\n",
      "117180 exchanges\n",
      "0 unlinked exchanges\n",
      "  \n"
     ]
    },
    {
     "data": {
      "text/plain": [
       "(1700, 117180, 0)"
      ]
     },
     "execution_count": 16,
     "metadata": {},
     "output_type": "execute_result"
    }
   ],
   "source": [
    "agg.statistics()"
   ]
  },
  {
   "cell_type": "markdown",
   "metadata": {},
   "source": [
    "### v) Change incorrect lognormal uncertainty information\n",
    "So far, all exchanges with lognormal distributions have `loc` parameter equal to `amount`, instead of `log(amount)` as required by `stats_arrays`. <br>\n",
    "TODO -> Ideally need to check that all distributions make sense"
   ]
  },
  {
   "cell_type": "code",
   "execution_count": 17,
   "metadata": {},
   "outputs": [],
   "source": [
    "import stats_arrays as sa\n",
    "\n",
    "changed = []\n",
    "for i,act in enumerate(agg.data):\n",
    "    excs = act.get('exchanges', [])\n",
    "    for j,exc in enumerate(excs):\n",
    "        if exc.get('uncertainty type', False) == sa.LognormalUncertainty.id and \\\n",
    "        np.allclose(exc.get('amount'), exc.get('loc')):\n",
    "            # a. loc chosen such that amount is the mean of the specified distribution\n",
    "#             exc.update(loc=np.log(exc['amount'])-(exc['scale']**2)/2)\n",
    "            # b. loc chosen such that amount is the median of the specified distribution, same as majority in ecoinvent\n",
    "            exc.update(loc=np.log(exc['amount']))\n",
    "            changed.append([i,j])\n",
    "if \"3.6\" in ei_name:\n",
    "    assert len(changed)==319\n",
    "elif \"3.7\" in ei_name:\n",
    "    assert len(changed)==1168"
   ]
  },
  {
   "cell_type": "markdown",
   "metadata": {},
   "source": [
    "### vi) Make sure scale of lognormal is nonzero "
   ]
  },
  {
   "cell_type": "code",
   "execution_count": 18,
   "metadata": {},
   "outputs": [],
   "source": [
    "changed = []\n",
    "for i,act in enumerate(agg.data):\n",
    "    excs = act.get('exchanges', [])\n",
    "    for j,exc in enumerate(excs):\n",
    "        if exc.get('uncertainty type', False) == sa.LognormalUncertainty.id and \\\n",
    "        exc.get('scale')==0:\n",
    "            exc.update({\"uncertainty type\": 0, \"loc\": np.nan, \"scale\": np.nan})\n",
    "            changed.append([i,j])\n",
    "assert len(changed)==6"
   ]
  },
  {
   "cell_type": "markdown",
   "metadata": {},
   "source": [
    "### vii) Scale technosphere such that production exchanges are all 1"
   ]
  },
  {
   "cell_type": "code",
   "execution_count": null,
   "metadata": {},
   "outputs": [],
   "source": [
    "# # Commented out because this code only scales production exchanges, \n",
    "# # but uncertainties in the exchanges should be scaled as well!\n",
    "# acts_to_scale = []\n",
    "# for act in agg.data:\n",
    "#     excs = act.get('exchanges', [])\n",
    "#     for exc in excs:\n",
    "#         if exc.get('type') == 'production' and exc.get('amount')!=1:\n",
    "#             acts_to_scale.append((act,exc.get('amount')))\n",
    "\n",
    "# for act,production_amt in acts_to_scale:\n",
    "#     excs = act.get('exchanges', [])\n",
    "#     for exc in excs:\n",
    "#         if exc.get('type') == 'production':\n",
    "#             exc.update(amount=1)\n",
    "#         else:\n",
    "#             current_amt = exc.get('amount')\n",
    "#             exc.update(amount=current_amt/production_amt)"
   ]
  },
  {
   "cell_type": "markdown",
   "metadata": {},
   "source": [
    "### viii) Write database\n",
    "It seems that now we can write the database since there are 0 unlinked exchanges, but if we actually try then we'll get an error"
   ]
  },
  {
   "cell_type": "code",
   "execution_count": 19,
   "metadata": {},
   "outputs": [
    {
     "ename": "NonuniqueCode",
     "evalue": "The following activities have non-unique codes: ['ammonium nitrate phosphate production', 'diammonium phosphate production', 'monoammonium phosphate production']",
     "output_type": "error",
     "traceback": [
      "\u001b[0;31m---------------------------------------------------------------------------\u001b[0m",
      "\u001b[0;31mNonuniqueCode\u001b[0m                             Traceback (most recent call last)",
      "\u001b[0;32m<ipython-input-19-6b4fa551928e>\u001b[0m in \u001b[0;36m<module>\u001b[0;34m\u001b[0m\n\u001b[1;32m      2\u001b[0m     \u001b[0mprint\u001b[0m\u001b[0;34m(\u001b[0m\u001b[0mag13_ei_name\u001b[0m \u001b[0;34m+\u001b[0m \u001b[0;34m\" database already present!!! No import is needed\"\u001b[0m\u001b[0;34m)\u001b[0m\u001b[0;34m\u001b[0m\u001b[0;34m\u001b[0m\u001b[0m\n\u001b[1;32m      3\u001b[0m \u001b[0;32melse\u001b[0m\u001b[0;34m:\u001b[0m\u001b[0;34m\u001b[0m\u001b[0;34m\u001b[0m\u001b[0m\n\u001b[0;32m----> 4\u001b[0;31m     \u001b[0magg\u001b[0m\u001b[0;34m.\u001b[0m\u001b[0mwrite_database\u001b[0m\u001b[0;34m(\u001b[0m\u001b[0;34m)\u001b[0m\u001b[0;34m\u001b[0m\u001b[0;34m\u001b[0m\u001b[0m\n\u001b[0m",
      "\u001b[0;32m~/opt/miniconda3/envs/gsa-dev-py38/lib/python3.8/site-packages/bw2io/importers/simapro_csv.py\u001b[0m in \u001b[0;36mwrite_database\u001b[0;34m(self, data, name, *args, **kwargs)\u001b[0m\n\u001b[1;32m    105\u001b[0m \u001b[0;34m\u001b[0m\u001b[0m\n\u001b[1;32m    106\u001b[0m     \u001b[0;32mdef\u001b[0m \u001b[0mwrite_database\u001b[0m\u001b[0;34m(\u001b[0m\u001b[0mself\u001b[0m\u001b[0;34m,\u001b[0m \u001b[0mdata\u001b[0m\u001b[0;34m=\u001b[0m\u001b[0;32mNone\u001b[0m\u001b[0;34m,\u001b[0m \u001b[0mname\u001b[0m\u001b[0;34m=\u001b[0m\u001b[0;32mNone\u001b[0m\u001b[0;34m,\u001b[0m \u001b[0;34m*\u001b[0m\u001b[0margs\u001b[0m\u001b[0;34m,\u001b[0m \u001b[0;34m**\u001b[0m\u001b[0mkwargs\u001b[0m\u001b[0;34m)\u001b[0m\u001b[0;34m:\u001b[0m\u001b[0;34m\u001b[0m\u001b[0;34m\u001b[0m\u001b[0m\n\u001b[0;32m--> 107\u001b[0;31m         \u001b[0mdb\u001b[0m \u001b[0;34m=\u001b[0m \u001b[0msuper\u001b[0m\u001b[0;34m(\u001b[0m\u001b[0mSimaProCSVImporter\u001b[0m\u001b[0;34m,\u001b[0m \u001b[0mself\u001b[0m\u001b[0;34m)\u001b[0m\u001b[0;34m.\u001b[0m\u001b[0mwrite_database\u001b[0m\u001b[0;34m(\u001b[0m\u001b[0mdata\u001b[0m\u001b[0;34m,\u001b[0m \u001b[0mname\u001b[0m\u001b[0;34m,\u001b[0m \u001b[0;34m*\u001b[0m\u001b[0margs\u001b[0m\u001b[0;34m,\u001b[0m \u001b[0;34m**\u001b[0m\u001b[0mkwargs\u001b[0m\u001b[0;34m)\u001b[0m\u001b[0;34m\u001b[0m\u001b[0;34m\u001b[0m\u001b[0m\n\u001b[0m\u001b[1;32m    108\u001b[0m         \u001b[0;31m# database_parameters[db.name] = self.global_parameters\u001b[0m\u001b[0;34m\u001b[0m\u001b[0;34m\u001b[0m\u001b[0;34m\u001b[0m\u001b[0m\n\u001b[1;32m    109\u001b[0m         \u001b[0mdb\u001b[0m\u001b[0;34m.\u001b[0m\u001b[0mmetadata\u001b[0m\u001b[0;34m[\u001b[0m\u001b[0;34m'simapro import'\u001b[0m\u001b[0;34m]\u001b[0m \u001b[0;34m=\u001b[0m \u001b[0mself\u001b[0m\u001b[0;34m.\u001b[0m\u001b[0mmetadata\u001b[0m\u001b[0;34m\u001b[0m\u001b[0;34m\u001b[0m\u001b[0m\n",
      "\u001b[0;32m~/opt/miniconda3/envs/gsa-dev-py38/lib/python3.8/site-packages/bw2io/importers/base_lci.py\u001b[0m in \u001b[0;36mwrite_database\u001b[0;34m(self, data, delete_existing, backend, activate_parameters, **kwargs)\u001b[0m\n\u001b[1;32m    215\u001b[0m                     \u001b[0mseen\u001b[0m\u001b[0;34m.\u001b[0m\u001b[0madd\u001b[0m\u001b[0;34m(\u001b[0m\u001b[0mo\u001b[0m\u001b[0;34m[\u001b[0m\u001b[0;34m'code'\u001b[0m\u001b[0;34m]\u001b[0m\u001b[0;34m)\u001b[0m\u001b[0;34m\u001b[0m\u001b[0;34m\u001b[0m\u001b[0m\n\u001b[1;32m    216\u001b[0m             \u001b[0merror\u001b[0m \u001b[0;34m=\u001b[0m \u001b[0;34m\"The following activities have non-unique codes: {}\"\u001b[0m\u001b[0;34m\u001b[0m\u001b[0;34m\u001b[0m\u001b[0m\n\u001b[0;32m--> 217\u001b[0;31m             \u001b[0;32mraise\u001b[0m \u001b[0mNonuniqueCode\u001b[0m\u001b[0;34m(\u001b[0m\u001b[0merror\u001b[0m\u001b[0;34m.\u001b[0m\u001b[0mformat\u001b[0m\u001b[0;34m(\u001b[0m\u001b[0mduplicates\u001b[0m\u001b[0;34m)\u001b[0m\u001b[0;34m)\u001b[0m\u001b[0;34m\u001b[0m\u001b[0;34m\u001b[0m\u001b[0m\n\u001b[0m\u001b[1;32m    218\u001b[0m \u001b[0;34m\u001b[0m\u001b[0m\n\u001b[1;32m    219\u001b[0m         \u001b[0mdata\u001b[0m \u001b[0;34m=\u001b[0m \u001b[0;34m{\u001b[0m\u001b[0;34m(\u001b[0m\u001b[0mds\u001b[0m\u001b[0;34m[\u001b[0m\u001b[0;34m'database'\u001b[0m\u001b[0;34m]\u001b[0m\u001b[0;34m,\u001b[0m \u001b[0mds\u001b[0m\u001b[0;34m[\u001b[0m\u001b[0;34m'code'\u001b[0m\u001b[0;34m]\u001b[0m\u001b[0;34m)\u001b[0m\u001b[0;34m:\u001b[0m \u001b[0mds\u001b[0m \u001b[0;32mfor\u001b[0m \u001b[0mds\u001b[0m \u001b[0;32min\u001b[0m \u001b[0mdata\u001b[0m\u001b[0;34m}\u001b[0m\u001b[0;34m\u001b[0m\u001b[0;34m\u001b[0m\u001b[0m\n",
      "\u001b[0;31mNonuniqueCode\u001b[0m: The following activities have non-unique codes: ['ammonium nitrate phosphate production', 'diammonium phosphate production', 'monoammonium phosphate production']"
     ]
    }
   ],
   "source": [
    "if ag13_ei_name in bw.databases:\n",
    "    print(ag13_ei_name + \" database already present!!! No import is needed\")\n",
    "else:\n",
    "    agg.write_database()"
   ]
  },
  {
   "cell_type": "markdown",
   "metadata": {},
   "source": [
    "#### Fix non-unique codes"
   ]
  },
  {
   "cell_type": "code",
   "execution_count": 20,
   "metadata": {},
   "outputs": [],
   "source": [
    "a = 'ammonium nitrate phosphate production'\n",
    "b = 'diammonium phosphate production'\n",
    "c = 'monoammonium phosphate production'"
   ]
  },
  {
   "cell_type": "code",
   "execution_count": 21,
   "metadata": {},
   "outputs": [
    {
     "name": "stdout",
     "output_type": "stream",
     "text": [
      "{'categories': ('Materials/fuels',), 'name': 'ammonium nitrate phosphate production', 'unit': 'kilogram', 'comment': '(1,1,5,1,1,na); assimilation MAP', 'location': 'RER', 'type': 'process', 'code': 'de221991cc69f37976042f05f448c94c', 'database': 'Agribalyse 1.3 - ecoinvent 3.7.1 cutoff'}\n",
      "{'categories': ('Materials/fuels',), 'name': 'ammonium nitrate phosphate production', 'unit': 'kilogram', 'comment': '(1,1,5,1,1,na); assimilation MAP', 'location': 'RER', 'type': 'process', 'code': 'de221991cc69f37976042f05f448c94c', 'database': 'Agribalyse 1.3 - ecoinvent 3.7.1 cutoff'}\n",
      "{'categories': ('Materials/fuels',), 'name': 'diammonium phosphate production', 'unit': 'kilogram', 'comment': \"Mineral fertilizers. Model of transport: 'MT MAP DAP', weight transported in tons = 5,9E-02. Pedigree-Matrix='(3,3,2,1,2,na)'.\", 'location': 'RER', 'type': 'process', 'code': '64037e162f6d6d1048470c3a1135f4fb', 'database': 'Agribalyse 1.3 - ecoinvent 3.7.1 cutoff'}\n",
      "{'categories': ('Materials/fuels',), 'name': 'diammonium phosphate production', 'unit': 'kilogram', 'comment': \"Mineral fertilizers. Pedigree-Matrix='(3,3,2,1,2,na)'.\", 'location': 'RER', 'type': 'process', 'code': '64037e162f6d6d1048470c3a1135f4fb', 'database': 'Agribalyse 1.3 - ecoinvent 3.7.1 cutoff'}\n",
      "{'categories': ('Materials/fuels',), 'name': 'monoammonium phosphate production', 'unit': 'kilogram', 'comment': '', 'location': 'RER', 'type': 'process', 'code': '6d61eb45c1d285073770aa839426d97c', 'database': 'Agribalyse 1.3 - ecoinvent 3.7.1 cutoff'}\n",
      "{'categories': ('Materials/fuels',), 'name': 'monoammonium phosphate production', 'unit': 'kilogram', 'comment': '', 'location': 'RER', 'type': 'process', 'code': '6d61eb45c1d285073770aa839426d97c', 'database': 'Agribalyse 1.3 - ecoinvent 3.7.1 cutoff'}\n"
     ]
    }
   ],
   "source": [
    "for act in agg.data:\n",
    "    if act['name'] in [a,b,c]:\n",
    "        print(act)"
   ]
  },
  {
   "cell_type": "code",
   "execution_count": 22,
   "metadata": {},
   "outputs": [],
   "source": [
    "# Remove repetitive activities\n",
    "agg.data.remove(\n",
    "    {\n",
    "        'categories': ('Materials/fuels',), \n",
    "        'name': 'ammonium nitrate phosphate production', \n",
    "        'unit': 'kilogram', \n",
    "        'comment': '(1,1,5,1,1,na); assimilation MAP', \n",
    "        'location': 'RER', \n",
    "        'type': 'process', \n",
    "        'code': 'de221991cc69f37976042f05f448c94c', \n",
    "        'database': ag13_ei_name\n",
    "    }\n",
    ")\n",
    "agg.data.remove(\n",
    "    {\n",
    "        'categories': ('Materials/fuels',), \n",
    "        'name': 'diammonium phosphate production', \n",
    "        'unit': 'kilogram', \n",
    "        'comment': \"Mineral fertilizers. Model of transport: 'MT MAP DAP', weight transported in tons = 5,9E-02. Pedigree-Matrix='(3,3,2,1,2,na)'.\", \n",
    "        'location': 'RER', \n",
    "        'type': 'process', \n",
    "        'code': '64037e162f6d6d1048470c3a1135f4fb', \n",
    "        'database': ag13_ei_name\n",
    "    }\n",
    ")\n",
    "agg.data.remove(\n",
    "    {\n",
    "        'categories': ('Materials/fuels',), \n",
    "        'name': 'monoammonium phosphate production', \n",
    "        'unit': 'kilogram', \n",
    "        'comment': '', \n",
    "        'location': 'RER', \n",
    "        'type': 'process', \n",
    "        'code': '6d61eb45c1d285073770aa839426d97c', \n",
    "        'database': ag13_ei_name\n",
    "    }\n",
    ")"
   ]
  },
  {
   "cell_type": "markdown",
   "metadata": {},
   "source": [
    "#### Finally, write database"
   ]
  },
  {
   "cell_type": "code",
   "execution_count": 23,
   "metadata": {},
   "outputs": [
    {
     "name": "stdout",
     "output_type": "stream",
     "text": [
      "1697 datasets\n",
      "117180 exchanges\n",
      "0 unlinked exchanges\n",
      "  \n"
     ]
    },
    {
     "data": {
      "text/plain": [
       "(1697, 117180, 0)"
      ]
     },
     "execution_count": 23,
     "metadata": {},
     "output_type": "execute_result"
    }
   ],
   "source": [
    "agg.statistics()"
   ]
  },
  {
   "cell_type": "code",
   "execution_count": 24,
   "metadata": {},
   "outputs": [
    {
     "name": "stderr",
     "output_type": "stream",
     "text": [
      "Writing activities to SQLite3 database:\n",
      "0% [##############################] 100% | ETA: 00:00:00\n",
      "Total time elapsed: 00:00:08\n"
     ]
    },
    {
     "name": "stdout",
     "output_type": "stream",
     "text": [
      "Title: Writing activities to SQLite3 database:\n",
      "  Started: 03/04/2021 17:25:28\n",
      "  Finished: 03/04/2021 17:25:36\n",
      "  Total time elapsed: 00:00:08\n",
      "  CPU %: 96.10\n",
      "  Memory %: 11.55\n",
      "Created database: Agribalyse 1.3 - ecoinvent 3.7.1 cutoff\n"
     ]
    }
   ],
   "source": [
    "if ag13_ei_name in bw.databases:\n",
    "    print(ag13_ei_name + \" database already present!!! No import is needed\")\n",
    "else:\n",
    "    if len(list(agg.unlinked)) == 0:\n",
    "        agg.write_database()\n",
    "    else:\n",
    "        print(\"Some exchanges are still unlinked\")\n",
    "        print(list(agg.unlinked))"
   ]
  }
 ],
 "metadata": {
  "kernelspec": {
   "display_name": "Python 3",
   "language": "python",
   "name": "python3"
  },
  "language_info": {
   "codemirror_mode": {
    "name": "ipython",
    "version": 3
   },
   "file_extension": ".py",
   "mimetype": "text/x-python",
   "name": "python",
   "nbconvert_exporter": "python",
   "pygments_lexer": "ipython3",
   "version": "3.8.6"
  },
  "varInspector": {
   "cols": {
    "lenName": 16,
    "lenType": 16,
    "lenVar": 40
   },
   "kernels_config": {
    "python": {
     "delete_cmd_postfix": "",
     "delete_cmd_prefix": "del ",
     "library": "var_list.py",
     "varRefreshCmd": "print(var_dic_list())"
    },
    "r": {
     "delete_cmd_postfix": ") ",
     "delete_cmd_prefix": "rm(",
     "library": "var_list.r",
     "varRefreshCmd": "cat(var_dic_list()) "
    }
   },
   "types_to_exclude": [
    "module",
    "function",
    "builtin_function_or_method",
    "instance",
    "_Feature"
   ],
   "window_display": false
  }
 },
 "nbformat": 4,
 "nbformat_minor": 2
}
